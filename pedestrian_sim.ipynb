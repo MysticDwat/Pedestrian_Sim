{
 "cells": [
  {
   "cell_type": "code",
   "execution_count": 1,
   "id": "broke-objective",
   "metadata": {},
   "outputs": [
    {
     "data": {
      "text/html": [
       "<div id=\"glowscript\" class=\"glowscript\"></div>"
      ],
      "text/plain": [
       "<IPython.core.display.HTML object>"
      ]
     },
     "metadata": {},
     "output_type": "display_data"
    },
    {
     "data": {
      "application/javascript": [
       "if (typeof Jupyter !== \"undefined\") { window.__context = { glowscript_container: $(\"#glowscript\").removeAttr(\"id\")};}else{ element.textContent = ' ';}"
      ],
      "text/plain": [
       "<IPython.core.display.Javascript object>"
      ]
     },
     "metadata": {},
     "output_type": "display_data"
    }
   ],
   "source": [
    "#imports\n",
    "from vpython import *\n",
    "from math import *\n",
    "import numpy as np\n",
    "import random as r"
   ]
  },
  {
   "cell_type": "code",
   "execution_count": 2,
   "id": "secure-yahoo",
   "metadata": {},
   "outputs": [],
   "source": [
    "#functions\n",
    "#waits for user to push the key given\n",
    "def waitforuser(key):\n",
    "    while True:\n",
    "        ev = scene.waitfor('keydown')\n",
    "        \n",
    "        if ev.key == 'i':\n",
    "            break\n",
    "\n",
    "#calculates distance between two 2d points\n",
    "def distance(x1:float, y1:float, x2:float, y2:float):\n",
    "    return sqrt((x2 - x1) ** 2 + (y1 - y2) ** 2)\n",
    "\n",
    "#calculates cost a point obstacle creates\n",
    "def obstacle_cost(ped_x:float, ped_y:float, ped_rad:float, ob_x:float, ob_y:float, ob_rad:float, rad:float):\n",
    "    #gets distance from obstacle\n",
    "    #subtract obstacle and pedestrian shape radi for more accurate distance\n",
    "    dst = distance(ped_x, ped_y, ob_x, ob_y) - (ob_rad + ped_rad)\n",
    "    \n",
    "    #if distance is less than 0, make near 0\n",
    "    if dst <= 0:\n",
    "        dst = 0.00000001\n",
    "    \n",
    "    #if distance is less than radius, cost is ln(rad/dst)\n",
    "    return (dst > 0 and dst <= rad) * log(rad/dst)\n",
    "\n",
    "#calculates cost create by box\n",
    "def box_cost(ped_x:float, ped_y:float, ped_rad:float, ob, ob_rad:float, rad:float):\n",
    "    #declare theta angle between box axis and distance vector\n",
    "    theta = 0\n",
    "    \n",
    "    #get distance vector, axis vector, and axis orthogonal vector\n",
    "    dst_v = vector(ped_x - ob.pos.x, 0, ped_y - ob.pos.z)\n",
    "    axis_v = vector(ob.axis.x, 0, ob.axis.z)\n",
    "    axis_iv = vector(0,0,0)\n",
    "    \n",
    "    #if axis vector is (x,0,0) or (0,0,z), swap x and z\n",
    "    if axis_v.x == 0 or axis_v.z == 0:\n",
    "        axis_iv.x = axis_v.z\n",
    "        axis_iv.z = axis_v.x\n",
    "    #else find orthognal vector    \n",
    "    else:\n",
    "        axis_iv.x = 1 - 2 * (axis_v.x < 0)\n",
    "        axis_iv.z = axis_v.x / axis_v.z * -1\n",
    "        axis_iv = axis_iv.norm()\n",
    "    \n",
    "    #get product of axis and distance and of orthognal and distance\n",
    "    mag_prod = axis_v.mag * dst_v.mag\n",
    "    imag_prod = axis_iv.mag * dst_v.mag\n",
    "    \n",
    "    #get cos and sin values between axis/distance and orthogonal/distance\n",
    "    cos_theta = acos(axis_v.dot(dst_v) / mag_prod)\n",
    "    sin_theta = asin(axis_v.cross(dst_v).mag / mag_prod)\n",
    "    icos_theta = acos(axis_iv.dot(dst_v) / imag_prod)\n",
    "    isin_theta = asin(axis_iv.cross(dst_v).mag / imag_prod)\n",
    "    \n",
    "    #use relationship of both pairs of cos and sin to find accurate theta between axis and distance\n",
    "    if ((cos_theta <= pi/2 and sin_theta >= 0) and (icos_theta <= pi/2 and isin_theta >= 0)):\n",
    "        theta = 2*pi - sin_theta\n",
    "    elif ((cos_theta >= pi/2 and sin_theta >= 0) and (icos_theta <= pi/2 and isin_theta >= 0)):\n",
    "        theta = pi + sin_theta\n",
    "    elif ((cos_theta >= pi/2 and sin_theta >= 0) and (icos_theta >= pi/2 and isin_theta >= 0)):\n",
    "        theta = cos_theta\n",
    "    elif ((cos_theta <= pi/2 and sin_theta >= 0) and (icos_theta >= pi/2 and isin_theta >= 0)):\n",
    "        theta = cos_theta\n",
    "    \n",
    "    #get l and w of triangle that finds point nearest to ped\n",
    "    l = dst * cos(theta)\n",
    "    w = dst * sin(theta)\n",
    "    \n",
    "    #clamps values for l and w\n",
    "    if l > ob.length/2:\n",
    "        l = ob.length/2\n",
    "    elif l < ob.length/2 * -1:\n",
    "        l = ob.length/2 * -1\n",
    "    if w > ob.width/2:\n",
    "        w = ob.width/2\n",
    "    elif w < ob.width/2 * -1:\n",
    "        w = ob.width/2 * -1\n",
    "     \n",
    "    #get angle between axis of vector and x axis\n",
    "    phi = vector(1,0,0).diff_angle(ob.axis)\n",
    "    \n",
    "    #rotate l and w so point in x and y\n",
    "    x = ob.pos.x + cos(phi) * l - sin(phi) * w\n",
    "    y = ob.pos.z + sin(phi) * l + cos(phi) * w\n",
    "      \n",
    "    #get cost from point nearest to ped\n",
    "    return obstacle_cost(ped_x, ped_y, ped_rad, x, y, ob_rad, rad)\n",
    "\n",
    "#gets overall cost at a location\n",
    "def cost(ped_x:float, ped_y:float, target, ep_x:float, ep_y:float, peds:list, ped_cost:float, obs:list, ob_cost:float, bxs:list, bx_rad:float, bx_cost:float, d):\n",
    "    #get cost relative to goal and declare f\n",
    "    dst = distance(ped_x, ped_y, ep_x, ep_y)\n",
    "    f = 0\n",
    "    \n",
    "    #get costs for all obstacles\n",
    "    for ob in obs:\n",
    "        f += obstacle_cost(ped_x, ped_y, target.radius, ob.pos.x, ob.pos.z, ob.radius, ob_cost)\n",
    "        \n",
    "    #get costs from social distance  \n",
    "    for ped in peds:\n",
    "        if ped == target:\n",
    "            continue\n",
    "        \n",
    "        f += obstacle_cost(ped_x, ped_y, target.radius, ped.pos.x, ped.pos.z, ped.radius, ped_cost)\n",
    "    \n",
    "    #get costs from walls\n",
    "    for bx in bxs:\n",
    "        f += box_cost(ped_x, ped_y, target.radius, bx, bx_rad, bx_cost)\n",
    "    \n",
    "    #return total\n",
    "    return dst + f\n",
    "\n",
    "#estimates min cost path to goal\n",
    "def gradient(ped, ep_x:float, ep_y:float, peds:list, ped_cost:float, obs:list, ob_cost:float, bxs:list, bx_rad:float, bx_cost:float, d:float, l:float):\n",
    "    #sample costs around ped\n",
    "    cxn = cost(ped.pos.x - d, ped.pos.z, ped, ep_x, ep_y, peds, ped_cost, obs, ob_cost, bxs, bx_rad, bx_cost, d)\n",
    "    cxp = cost(ped.pos.x + d, ped.pos.z, ped, ep_x, ep_y, peds, ped_cost, obs, ob_cost, bxs, bx_rad, bx_cost, d)\n",
    "    cyn = cost(ped.pos.x, ped.pos.z - d, ped, ep_x, ep_y, peds, ped_cost, obs, ob_cost, bxs, bx_rad, bx_cost, d)\n",
    "    cyp = cost(ped.pos.x, ped.pos.z + d, ped, ep_x, ep_y, peds, ped_cost, obs, ob_cost, bxs, bx_rad, bx_cost, d)\n",
    "    \n",
    "    #find cost changes relative to x and y\n",
    "    dx = (cxp - cxn) / (d * 2)\n",
    "    dy = (cyp - cyn) / (d * 2)\n",
    "    \n",
    "    #get vector of change\n",
    "    dv = vector(dx,0,dy)\n",
    "    \n",
    "    #normalize vector if mag greater than 1\n",
    "    if dv.mag > 1:\n",
    "        dv = dv.norm()\n",
    "    \n",
    "    #set x and y changes in case of normalization\n",
    "    dx = dv.x\n",
    "    dy = dv.z\n",
    "    \n",
    "    #return movements\n",
    "    return (dx * l * -1), (dy * l * -1)"
   ]
  },
  {
   "cell_type": "code",
   "execution_count": 30,
   "id": "virtual-latitude",
   "metadata": {
    "scrolled": false
   },
   "outputs": [
    {
     "data": {
      "text/html": [
       "<div id=\"glowscript\" class=\"glowscript\"></div>"
      ],
      "text/plain": [
       "<IPython.core.display.HTML object>"
      ]
     },
     "metadata": {},
     "output_type": "display_data"
    },
    {
     "data": {
      "application/javascript": [
       "if (typeof Jupyter !== \"undefined\") { window.__context = { glowscript_container: $(\"#glowscript\").removeAttr(\"id\")};}else{ element.textContent = ' ';}"
      ],
      "text/plain": [
       "<IPython.core.display.Javascript object>"
      ]
     },
     "metadata": {},
     "output_type": "display_data"
    },
    {
     "name": "stdout",
     "output_type": "stream",
     "text": [
      "start\n"
     ]
    },
    {
     "ename": "KeyboardInterrupt",
     "evalue": "",
     "output_type": "error",
     "traceback": [
      "\u001b[1;31m---------------------------------------------------------------------------\u001b[0m",
      "\u001b[1;31mKeyboardInterrupt\u001b[0m                         Traceback (most recent call last)",
      "\u001b[1;32m<ipython-input-30-1cae1de11c73>\u001b[0m in \u001b[0;36m<module>\u001b[1;34m\u001b[0m\n\u001b[0;32m     40\u001b[0m \u001b[1;33m\u001b[0m\u001b[0m\n\u001b[0;32m     41\u001b[0m \u001b[1;32mfor\u001b[0m \u001b[0mi\u001b[0m \u001b[1;32min\u001b[0m \u001b[0mrange\u001b[0m\u001b[1;33m(\u001b[0m\u001b[1;36m24\u001b[0m \u001b[1;33m*\u001b[0m \u001b[1;36m30\u001b[0m\u001b[1;33m)\u001b[0m\u001b[1;33m:\u001b[0m\u001b[1;33m\u001b[0m\u001b[1;33m\u001b[0m\u001b[0m\n\u001b[1;32m---> 42\u001b[1;33m     \u001b[0msleep\u001b[0m\u001b[1;33m(\u001b[0m\u001b[1;36m1\u001b[0m\u001b[1;33m/\u001b[0m\u001b[1;36m24\u001b[0m\u001b[1;33m)\u001b[0m\u001b[1;33m\u001b[0m\u001b[1;33m\u001b[0m\u001b[0m\n\u001b[0m\u001b[0;32m     43\u001b[0m \u001b[1;33m\u001b[0m\u001b[0m\n\u001b[0;32m     44\u001b[0m     \u001b[0mtdx\u001b[0m \u001b[1;33m=\u001b[0m \u001b[1;36m0\u001b[0m\u001b[1;33m\u001b[0m\u001b[1;33m\u001b[0m\u001b[0m\n",
      "\u001b[1;32m~\\miniconda3\\lib\\site-packages\\vpython\\vpython.py\u001b[0m in \u001b[0;36msleep\u001b[1;34m(dt)\u001b[0m\n\u001b[0;32m   4286\u001b[0m     \u001b[0mt\u001b[0m \u001b[1;33m=\u001b[0m \u001b[0mclock\u001b[0m\u001b[1;33m(\u001b[0m\u001b[1;33m)\u001b[0m\u001b[1;33m+\u001b[0m\u001b[0mdt\u001b[0m\u001b[1;33m\u001b[0m\u001b[1;33m\u001b[0m\u001b[0m\n\u001b[0;32m   4287\u001b[0m     \u001b[1;32mwhile\u001b[0m \u001b[0mclock\u001b[0m\u001b[1;33m(\u001b[0m\u001b[1;33m)\u001b[0m \u001b[1;33m<\u001b[0m \u001b[0mt\u001b[0m\u001b[1;33m:\u001b[0m\u001b[1;33m\u001b[0m\u001b[1;33m\u001b[0m\u001b[0m\n\u001b[1;32m-> 4288\u001b[1;33m         \u001b[0mrate\u001b[0m\u001b[1;33m(\u001b[0m\u001b[1;36m60\u001b[0m\u001b[1;33m)\u001b[0m\u001b[1;33m\u001b[0m\u001b[1;33m\u001b[0m\u001b[0m\n\u001b[0m\u001b[0;32m   4289\u001b[0m \u001b[1;33m\u001b[0m\u001b[0m\n\u001b[0;32m   4290\u001b[0m \u001b[1;32mdef\u001b[0m \u001b[0mprint_to_string\u001b[0m\u001b[1;33m(\u001b[0m\u001b[1;33m*\u001b[0m\u001b[0margs\u001b[0m\u001b[1;33m)\u001b[0m\u001b[1;33m:\u001b[0m \u001b[1;31m# treatment of <br> vs. \\n not quite right here\u001b[0m\u001b[1;33m\u001b[0m\u001b[1;33m\u001b[0m\u001b[0m\n",
      "\u001b[1;32m~\\miniconda3\\lib\\site-packages\\vpython\\rate_control.py\u001b[0m in \u001b[0;36m__call__\u001b[1;34m(self, N)\u001b[0m\n\u001b[0;32m    264\u001b[0m         \u001b[0mself\u001b[0m\u001b[1;33m.\u001b[0m\u001b[0mrval\u001b[0m \u001b[1;33m=\u001b[0m \u001b[0mN\u001b[0m\u001b[1;33m\u001b[0m\u001b[1;33m\u001b[0m\u001b[0m\n\u001b[0;32m    265\u001b[0m         \u001b[1;32mif\u001b[0m \u001b[0mself\u001b[0m\u001b[1;33m.\u001b[0m\u001b[0mrval\u001b[0m \u001b[1;33m<\u001b[0m \u001b[1;36m1\u001b[0m\u001b[1;33m:\u001b[0m \u001b[1;32mraise\u001b[0m \u001b[0mValueError\u001b[0m\u001b[1;33m(\u001b[0m\u001b[1;34m\"rate value must be greater than or equal to 1\"\u001b[0m\u001b[1;33m)\u001b[0m\u001b[1;33m\u001b[0m\u001b[1;33m\u001b[0m\u001b[0m\n\u001b[1;32m--> 266\u001b[1;33m         \u001b[0msuper\u001b[0m\u001b[1;33m(\u001b[0m\u001b[0m_RateKeeper2\u001b[0m\u001b[1;33m,\u001b[0m \u001b[0mself\u001b[0m\u001b[1;33m)\u001b[0m\u001b[1;33m.\u001b[0m\u001b[0m__call__\u001b[0m\u001b[1;33m(\u001b[0m\u001b[0mself\u001b[0m\u001b[1;33m.\u001b[0m\u001b[0mrval\u001b[0m\u001b[1;33m)\u001b[0m \u001b[1;31m## calls __call__ in rate_control.py\u001b[0m\u001b[1;33m\u001b[0m\u001b[1;33m\u001b[0m\u001b[0m\n\u001b[0m\u001b[0;32m    267\u001b[0m \u001b[1;33m\u001b[0m\u001b[0m\n\u001b[0;32m    268\u001b[0m \u001b[1;33m\u001b[0m\u001b[0m\n",
      "\u001b[1;32m~\\miniconda3\\lib\\site-packages\\vpython\\rate_control.py\u001b[0m in \u001b[0;36m__call__\u001b[1;34m(self, maxRate)\u001b[0m\n\u001b[0;32m    208\u001b[0m             \u001b[1;32mwhile\u001b[0m \u001b[1;32mTrue\u001b[0m\u001b[1;33m:\u001b[0m\u001b[1;33m\u001b[0m\u001b[1;33m\u001b[0m\u001b[0m\n\u001b[0;32m    209\u001b[0m                 \u001b[0mrenders\u001b[0m \u001b[1;33m+=\u001b[0m \u001b[1;36m1\u001b[0m\u001b[1;33m\u001b[0m\u001b[1;33m\u001b[0m\u001b[0m\n\u001b[1;32m--> 210\u001b[1;33m                 \u001b[0mself\u001b[0m\u001b[1;33m.\u001b[0m\u001b[0mcallInteract\u001b[0m\u001b[1;33m(\u001b[0m\u001b[1;33m)\u001b[0m\u001b[1;33m\u001b[0m\u001b[1;33m\u001b[0m\u001b[0m\n\u001b[0m\u001b[0;32m    211\u001b[0m                 \u001b[0mself\u001b[0m\u001b[1;33m.\u001b[0m\u001b[0mrenderIndex\u001b[0m \u001b[1;33m+=\u001b[0m \u001b[1;36m1\u001b[0m\u001b[1;33m\u001b[0m\u001b[1;33m\u001b[0m\u001b[0m\n\u001b[0;32m    212\u001b[0m                 \u001b[1;32mif\u001b[0m \u001b[0mself\u001b[0m\u001b[1;33m.\u001b[0m\u001b[0mwhenToRender\u001b[0m\u001b[1;33m[\u001b[0m\u001b[0mself\u001b[0m\u001b[1;33m.\u001b[0m\u001b[0mrenderIndex\u001b[0m\u001b[1;33m]\u001b[0m \u001b[1;33m==\u001b[0m \u001b[0mself\u001b[0m\u001b[1;33m.\u001b[0m\u001b[0mrateCount\u001b[0m\u001b[1;33m:\u001b[0m\u001b[1;33m\u001b[0m\u001b[1;33m\u001b[0m\u001b[0m\n",
      "\u001b[1;32m~\\miniconda3\\lib\\site-packages\\vpython\\rate_control.py\u001b[0m in \u001b[0;36mcallInteract\u001b[1;34m(self)\u001b[0m\n\u001b[0;32m    109\u001b[0m     \u001b[1;32mdef\u001b[0m \u001b[0mcallInteract\u001b[0m\u001b[1;33m(\u001b[0m\u001b[0mself\u001b[0m\u001b[1;33m)\u001b[0m\u001b[1;33m:\u001b[0m\u001b[1;33m\u001b[0m\u001b[1;33m\u001b[0m\u001b[0m\n\u001b[0;32m    110\u001b[0m         \u001b[0mt\u001b[0m \u001b[1;33m=\u001b[0m \u001b[0m_clock\u001b[0m\u001b[1;33m(\u001b[0m\u001b[1;33m)\u001b[0m\u001b[1;33m\u001b[0m\u001b[1;33m\u001b[0m\u001b[0m\n\u001b[1;32m--> 111\u001b[1;33m         \u001b[0mself\u001b[0m\u001b[1;33m.\u001b[0m\u001b[0minteractFunc\u001b[0m\u001b[1;33m(\u001b[0m\u001b[1;33m)\u001b[0m\u001b[1;33m\u001b[0m\u001b[1;33m\u001b[0m\u001b[0m\n\u001b[0m\u001b[0;32m    112\u001b[0m         \u001b[0mdt\u001b[0m \u001b[1;33m=\u001b[0m \u001b[0m_clock\u001b[0m\u001b[1;33m(\u001b[0m\u001b[1;33m)\u001b[0m \u001b[1;33m-\u001b[0m \u001b[0mt\u001b[0m\u001b[1;33m\u001b[0m\u001b[1;33m\u001b[0m\u001b[0m\n\u001b[0;32m    113\u001b[0m         \u001b[1;32mif\u001b[0m \u001b[0mself\u001b[0m\u001b[1;33m.\u001b[0m\u001b[0mcount\u001b[0m \u001b[1;33m==\u001b[0m \u001b[1;36m1\u001b[0m\u001b[1;33m:\u001b[0m \u001b[0mself\u001b[0m\u001b[1;33m.\u001b[0m\u001b[0mrenderTime\u001b[0m \u001b[1;33m=\u001b[0m \u001b[1;36m0.005\u001b[0m \u001b[1;31m# first value is abnormal; make small nonzero\u001b[0m\u001b[1;33m\u001b[0m\u001b[1;33m\u001b[0m\u001b[0m\n",
      "\u001b[1;32m~\\miniconda3\\lib\\site-packages\\vpython\\rate_control.py\u001b[0m in \u001b[0;36msendtofrontend\u001b[1;34m(self)\u001b[0m\n\u001b[0;32m    259\u001b[0m                     \u001b[1;31m# Must send events one at a time to GW.handle_msg because bound events need the loop code:\u001b[0m\u001b[1;33m\u001b[0m\u001b[1;33m\u001b[0m\u001b[1;33m\u001b[0m\u001b[0m\n\u001b[0;32m    260\u001b[0m                     \u001b[0mmsg\u001b[0m \u001b[1;33m=\u001b[0m \u001b[1;33m{\u001b[0m\u001b[1;34m'content'\u001b[0m\u001b[1;33m:\u001b[0m\u001b[1;33m{\u001b[0m\u001b[1;34m'data'\u001b[0m\u001b[1;33m:\u001b[0m\u001b[1;33m[\u001b[0m\u001b[0mm\u001b[0m\u001b[1;33m]\u001b[0m\u001b[1;33m}\u001b[0m\u001b[1;33m}\u001b[0m \u001b[1;31m# message format used by notebook\u001b[0m\u001b[1;33m\u001b[0m\u001b[1;33m\u001b[0m\u001b[0m\n\u001b[1;32m--> 261\u001b[1;33m                     \u001b[0mself\u001b[0m\u001b[1;33m.\u001b[0m\u001b[0m_sender\u001b[0m\u001b[1;33m(\u001b[0m\u001b[0mmsg\u001b[0m\u001b[1;33m)\u001b[0m\u001b[1;33m\u001b[0m\u001b[1;33m\u001b[0m\u001b[0m\n\u001b[0m\u001b[0;32m    262\u001b[0m \u001b[1;33m\u001b[0m\u001b[0m\n\u001b[0;32m    263\u001b[0m     \u001b[1;32mdef\u001b[0m \u001b[0m__call__\u001b[0m\u001b[1;33m(\u001b[0m\u001b[0mself\u001b[0m\u001b[1;33m,\u001b[0m \u001b[0mN\u001b[0m\u001b[1;33m)\u001b[0m\u001b[1;33m:\u001b[0m \u001b[1;31m# rate(N) calls this function\u001b[0m\u001b[1;33m\u001b[0m\u001b[1;33m\u001b[0m\u001b[0m\n",
      "\u001b[1;32m~\\miniconda3\\lib\\site-packages\\vpython\\rate_control.py\u001b[0m in \u001b[0;36mmessage_sender\u001b[1;34m(msg)\u001b[0m\n\u001b[0;32m    234\u001b[0m     \u001b[1;32mfrom\u001b[0m \u001b[1;33m.\u001b[0m\u001b[0mvpython\u001b[0m \u001b[1;32mimport\u001b[0m \u001b[0mbaseObj\u001b[0m\u001b[1;33m\u001b[0m\u001b[1;33m\u001b[0m\u001b[0m\n\u001b[0;32m    235\u001b[0m     \u001b[1;32mdef\u001b[0m \u001b[0mmessage_sender\u001b[0m\u001b[1;33m(\u001b[0m\u001b[0mmsg\u001b[0m\u001b[1;33m)\u001b[0m\u001b[1;33m:\u001b[0m\u001b[1;33m\u001b[0m\u001b[1;33m\u001b[0m\u001b[0m\n\u001b[1;32m--> 236\u001b[1;33m         \u001b[0mbaseObj\u001b[0m\u001b[1;33m.\u001b[0m\u001b[0mglow\u001b[0m\u001b[1;33m.\u001b[0m\u001b[0mhandle_msg\u001b[0m\u001b[1;33m(\u001b[0m\u001b[0mmsg\u001b[0m\u001b[1;33m)\u001b[0m\u001b[1;33m\u001b[0m\u001b[1;33m\u001b[0m\u001b[0m\n\u001b[0m\u001b[0;32m    237\u001b[0m     \u001b[1;32mreturn\u001b[0m \u001b[0mmessage_sender\u001b[0m\u001b[1;33m\u001b[0m\u001b[1;33m\u001b[0m\u001b[0m\n\u001b[0;32m    238\u001b[0m \u001b[1;33m\u001b[0m\u001b[0m\n",
      "\u001b[1;32m~\\miniconda3\\lib\\site-packages\\vpython\\vpython.py\u001b[0m in \u001b[0;36mhandle_msg\u001b[1;34m(self, msg)\u001b[0m\n\u001b[0;32m    397\u001b[0m                     \u001b[0mcvs\u001b[0m\u001b[1;33m.\u001b[0m\u001b[0mhandle_event\u001b[0m\u001b[1;33m(\u001b[0m\u001b[0mevt\u001b[0m\u001b[1;33m)\u001b[0m\u001b[1;33m\u001b[0m\u001b[1;33m\u001b[0m\u001b[0m\n\u001b[0;32m    398\u001b[0m             \u001b[1;32mif\u001b[0m \u001b[0m_isnotebook\u001b[0m\u001b[1;33m:\u001b[0m\u001b[1;33m\u001b[0m\u001b[1;33m\u001b[0m\u001b[0m\n\u001b[1;32m--> 399\u001b[1;33m                 \u001b[0mbaseObj\u001b[0m\u001b[1;33m.\u001b[0m\u001b[0mtrigger\u001b[0m\u001b[1;33m(\u001b[0m\u001b[1;33m)\u001b[0m\u001b[1;33m\u001b[0m\u001b[1;33m\u001b[0m\u001b[0m\n\u001b[0m\u001b[0;32m    400\u001b[0m \u001b[1;33m\u001b[0m\u001b[0m\n\u001b[0;32m    401\u001b[0m     \u001b[1;32mdef\u001b[0m \u001b[0mhandle_close\u001b[0m\u001b[1;33m(\u001b[0m\u001b[0mself\u001b[0m\u001b[1;33m,\u001b[0m \u001b[0mdata\u001b[0m\u001b[1;33m)\u001b[0m\u001b[1;33m:\u001b[0m\u001b[1;33m\u001b[0m\u001b[1;33m\u001b[0m\u001b[0m\n",
      "\u001b[1;32m~\\miniconda3\\lib\\site-packages\\vpython\\vpython.py\u001b[0m in \u001b[0;36mtrigger\u001b[1;34m(cls)\u001b[0m\n\u001b[0;32m    306\u001b[0m                     \u001b[0mbaseObj\u001b[0m\u001b[1;33m.\u001b[0m\u001b[0mupdates\u001b[0m\u001b[1;33m[\u001b[0m\u001b[1;34m'attrs'\u001b[0m\u001b[1;33m]\u001b[0m\u001b[1;33m[\u001b[0m\u001b[0midx\u001b[0m\u001b[1;33m]\u001b[0m \u001b[1;33m=\u001b[0m \u001b[1;33m{\u001b[0m\u001b[0mattr\u001b[0m\u001b[1;33m:\u001b[0m\u001b[0mval\u001b[0m\u001b[1;33m}\u001b[0m\u001b[1;33m\u001b[0m\u001b[1;33m\u001b[0m\u001b[0m\n\u001b[0;32m    307\u001b[0m             \u001b[0mobjdata\u001b[0m \u001b[1;33m=\u001b[0m \u001b[0mcls\u001b[0m\u001b[1;33m.\u001b[0m\u001b[0mpackage\u001b[0m\u001b[1;33m(\u001b[0m\u001b[0mbaseObj\u001b[0m\u001b[1;33m.\u001b[0m\u001b[0mupdates\u001b[0m\u001b[1;33m)\u001b[0m\u001b[1;33m\u001b[0m\u001b[1;33m\u001b[0m\u001b[0m\n\u001b[1;32m--> 308\u001b[1;33m         \u001b[0msender\u001b[0m\u001b[1;33m(\u001b[0m\u001b[0mobjdata\u001b[0m\u001b[1;33m)\u001b[0m\u001b[1;33m\u001b[0m\u001b[1;33m\u001b[0m\u001b[0m\n\u001b[0m\u001b[0;32m    309\u001b[0m         \u001b[0mcls\u001b[0m\u001b[1;33m.\u001b[0m\u001b[0minitialize\u001b[0m\u001b[1;33m(\u001b[0m\u001b[1;33m)\u001b[0m\u001b[1;33m\u001b[0m\u001b[1;33m\u001b[0m\u001b[0m\n\u001b[0;32m    310\u001b[0m         \u001b[0mbaseObj\u001b[0m\u001b[1;33m.\u001b[0m\u001b[0msent\u001b[0m \u001b[1;33m=\u001b[0m \u001b[1;32mTrue\u001b[0m\u001b[1;33m\u001b[0m\u001b[1;33m\u001b[0m\u001b[0m\n",
      "\u001b[1;32m~\\miniconda3\\lib\\site-packages\\ipykernel\\comm\\comm.py\u001b[0m in \u001b[0;36msend\u001b[1;34m(self, data, metadata, buffers)\u001b[0m\n\u001b[0;32m    120\u001b[0m     \u001b[1;32mdef\u001b[0m \u001b[0msend\u001b[0m\u001b[1;33m(\u001b[0m\u001b[0mself\u001b[0m\u001b[1;33m,\u001b[0m \u001b[0mdata\u001b[0m\u001b[1;33m=\u001b[0m\u001b[1;32mNone\u001b[0m\u001b[1;33m,\u001b[0m \u001b[0mmetadata\u001b[0m\u001b[1;33m=\u001b[0m\u001b[1;32mNone\u001b[0m\u001b[1;33m,\u001b[0m \u001b[0mbuffers\u001b[0m\u001b[1;33m=\u001b[0m\u001b[1;32mNone\u001b[0m\u001b[1;33m)\u001b[0m\u001b[1;33m:\u001b[0m\u001b[1;33m\u001b[0m\u001b[1;33m\u001b[0m\u001b[0m\n\u001b[0;32m    121\u001b[0m         \u001b[1;34m\"\"\"Send a message to the frontend-side version of this comm\"\"\"\u001b[0m\u001b[1;33m\u001b[0m\u001b[1;33m\u001b[0m\u001b[0m\n\u001b[1;32m--> 122\u001b[1;33m         self._publish_msg('comm_msg',\n\u001b[0m\u001b[0;32m    123\u001b[0m             \u001b[0mdata\u001b[0m\u001b[1;33m=\u001b[0m\u001b[0mdata\u001b[0m\u001b[1;33m,\u001b[0m \u001b[0mmetadata\u001b[0m\u001b[1;33m=\u001b[0m\u001b[0mmetadata\u001b[0m\u001b[1;33m,\u001b[0m \u001b[0mbuffers\u001b[0m\u001b[1;33m=\u001b[0m\u001b[0mbuffers\u001b[0m\u001b[1;33m,\u001b[0m\u001b[1;33m\u001b[0m\u001b[1;33m\u001b[0m\u001b[0m\n\u001b[0;32m    124\u001b[0m         )\n",
      "\u001b[1;32m~\\miniconda3\\lib\\site-packages\\ipykernel\\comm\\comm.py\u001b[0m in \u001b[0;36m_publish_msg\u001b[1;34m(self, msg_type, data, metadata, buffers, **keys)\u001b[0m\n\u001b[0;32m     64\u001b[0m         \u001b[0mmetadata\u001b[0m \u001b[1;33m=\u001b[0m \u001b[1;33m{\u001b[0m\u001b[1;33m}\u001b[0m \u001b[1;32mif\u001b[0m \u001b[0mmetadata\u001b[0m \u001b[1;32mis\u001b[0m \u001b[1;32mNone\u001b[0m \u001b[1;32melse\u001b[0m \u001b[0mmetadata\u001b[0m\u001b[1;33m\u001b[0m\u001b[1;33m\u001b[0m\u001b[0m\n\u001b[0;32m     65\u001b[0m         \u001b[0mcontent\u001b[0m \u001b[1;33m=\u001b[0m \u001b[0mjson_clean\u001b[0m\u001b[1;33m(\u001b[0m\u001b[0mdict\u001b[0m\u001b[1;33m(\u001b[0m\u001b[0mdata\u001b[0m\u001b[1;33m=\u001b[0m\u001b[0mdata\u001b[0m\u001b[1;33m,\u001b[0m \u001b[0mcomm_id\u001b[0m\u001b[1;33m=\u001b[0m\u001b[0mself\u001b[0m\u001b[1;33m.\u001b[0m\u001b[0mcomm_id\u001b[0m\u001b[1;33m,\u001b[0m \u001b[1;33m**\u001b[0m\u001b[0mkeys\u001b[0m\u001b[1;33m)\u001b[0m\u001b[1;33m)\u001b[0m\u001b[1;33m\u001b[0m\u001b[1;33m\u001b[0m\u001b[0m\n\u001b[1;32m---> 66\u001b[1;33m         self.kernel.session.send(self.kernel.iopub_socket, msg_type,\n\u001b[0m\u001b[0;32m     67\u001b[0m             \u001b[0mcontent\u001b[0m\u001b[1;33m,\u001b[0m\u001b[1;33m\u001b[0m\u001b[1;33m\u001b[0m\u001b[0m\n\u001b[0;32m     68\u001b[0m             \u001b[0mmetadata\u001b[0m\u001b[1;33m=\u001b[0m\u001b[0mjson_clean\u001b[0m\u001b[1;33m(\u001b[0m\u001b[0mmetadata\u001b[0m\u001b[1;33m)\u001b[0m\u001b[1;33m,\u001b[0m\u001b[1;33m\u001b[0m\u001b[1;33m\u001b[0m\u001b[0m\n",
      "\u001b[1;32m~\\miniconda3\\lib\\site-packages\\jupyter_client\\session.py\u001b[0m in \u001b[0;36msend\u001b[1;34m(self, stream, msg_or_type, content, parent, ident, buffers, track, header, metadata)\u001b[0m\n\u001b[0;32m    749\u001b[0m             \u001b[1;31m# use dummy tracker, which will be done immediately\u001b[0m\u001b[1;33m\u001b[0m\u001b[1;33m\u001b[0m\u001b[1;33m\u001b[0m\u001b[0m\n\u001b[0;32m    750\u001b[0m             \u001b[0mtracker\u001b[0m \u001b[1;33m=\u001b[0m \u001b[0mDONE\u001b[0m\u001b[1;33m\u001b[0m\u001b[1;33m\u001b[0m\u001b[0m\n\u001b[1;32m--> 751\u001b[1;33m             \u001b[0mstream\u001b[0m\u001b[1;33m.\u001b[0m\u001b[0msend_multipart\u001b[0m\u001b[1;33m(\u001b[0m\u001b[0mto_send\u001b[0m\u001b[1;33m,\u001b[0m \u001b[0mcopy\u001b[0m\u001b[1;33m=\u001b[0m\u001b[0mcopy\u001b[0m\u001b[1;33m)\u001b[0m\u001b[1;33m\u001b[0m\u001b[1;33m\u001b[0m\u001b[0m\n\u001b[0m\u001b[0;32m    752\u001b[0m \u001b[1;33m\u001b[0m\u001b[0m\n\u001b[0;32m    753\u001b[0m         \u001b[1;32mif\u001b[0m \u001b[0mself\u001b[0m\u001b[1;33m.\u001b[0m\u001b[0mdebug\u001b[0m\u001b[1;33m:\u001b[0m\u001b[1;33m\u001b[0m\u001b[1;33m\u001b[0m\u001b[0m\n",
      "\u001b[1;32m~\\miniconda3\\lib\\site-packages\\ipykernel\\iostream.py\u001b[0m in \u001b[0;36msend_multipart\u001b[1;34m(self, *args, **kwargs)\u001b[0m\n\u001b[0;32m    262\u001b[0m     \u001b[1;32mdef\u001b[0m \u001b[0msend_multipart\u001b[0m\u001b[1;33m(\u001b[0m\u001b[0mself\u001b[0m\u001b[1;33m,\u001b[0m \u001b[1;33m*\u001b[0m\u001b[0margs\u001b[0m\u001b[1;33m,\u001b[0m \u001b[1;33m**\u001b[0m\u001b[0mkwargs\u001b[0m\u001b[1;33m)\u001b[0m\u001b[1;33m:\u001b[0m\u001b[1;33m\u001b[0m\u001b[1;33m\u001b[0m\u001b[0m\n\u001b[0;32m    263\u001b[0m         \u001b[1;34m\"\"\"Schedule send in IO thread\"\"\"\u001b[0m\u001b[1;33m\u001b[0m\u001b[1;33m\u001b[0m\u001b[0m\n\u001b[1;32m--> 264\u001b[1;33m         \u001b[1;32mreturn\u001b[0m \u001b[0mself\u001b[0m\u001b[1;33m.\u001b[0m\u001b[0mio_thread\u001b[0m\u001b[1;33m.\u001b[0m\u001b[0msend_multipart\u001b[0m\u001b[1;33m(\u001b[0m\u001b[1;33m*\u001b[0m\u001b[0margs\u001b[0m\u001b[1;33m,\u001b[0m \u001b[1;33m**\u001b[0m\u001b[0mkwargs\u001b[0m\u001b[1;33m)\u001b[0m\u001b[1;33m\u001b[0m\u001b[1;33m\u001b[0m\u001b[0m\n\u001b[0m\u001b[0;32m    265\u001b[0m \u001b[1;33m\u001b[0m\u001b[0m\n\u001b[0;32m    266\u001b[0m \u001b[1;33m\u001b[0m\u001b[0m\n",
      "\u001b[1;32m~\\miniconda3\\lib\\site-packages\\ipykernel\\iostream.py\u001b[0m in \u001b[0;36msend_multipart\u001b[1;34m(self, *args, **kwargs)\u001b[0m\n\u001b[0;32m    212\u001b[0m         \u001b[0mIf\u001b[0m \u001b[0mmy\u001b[0m \u001b[0mthread\u001b[0m \u001b[0misn\u001b[0m\u001b[0;31m'\u001b[0m\u001b[0mt\u001b[0m \u001b[0mrunning\u001b[0m \u001b[1;33m(\u001b[0m\u001b[0me\u001b[0m\u001b[1;33m.\u001b[0m\u001b[0mg\u001b[0m\u001b[1;33m.\u001b[0m \u001b[0mforked\u001b[0m \u001b[0mprocess\u001b[0m\u001b[1;33m)\u001b[0m\u001b[1;33m,\u001b[0m \u001b[0msend\u001b[0m \u001b[0mimmediately\u001b[0m\u001b[1;33m.\u001b[0m\u001b[1;33m\u001b[0m\u001b[1;33m\u001b[0m\u001b[0m\n\u001b[0;32m    213\u001b[0m         \"\"\"\n\u001b[1;32m--> 214\u001b[1;33m         \u001b[0mself\u001b[0m\u001b[1;33m.\u001b[0m\u001b[0mschedule\u001b[0m\u001b[1;33m(\u001b[0m\u001b[1;32mlambda\u001b[0m \u001b[1;33m:\u001b[0m \u001b[0mself\u001b[0m\u001b[1;33m.\u001b[0m\u001b[0m_really_send\u001b[0m\u001b[1;33m(\u001b[0m\u001b[1;33m*\u001b[0m\u001b[0margs\u001b[0m\u001b[1;33m,\u001b[0m \u001b[1;33m**\u001b[0m\u001b[0mkwargs\u001b[0m\u001b[1;33m)\u001b[0m\u001b[1;33m)\u001b[0m\u001b[1;33m\u001b[0m\u001b[1;33m\u001b[0m\u001b[0m\n\u001b[0m\u001b[0;32m    215\u001b[0m \u001b[1;33m\u001b[0m\u001b[0m\n\u001b[0;32m    216\u001b[0m     \u001b[1;32mdef\u001b[0m \u001b[0m_really_send\u001b[0m\u001b[1;33m(\u001b[0m\u001b[0mself\u001b[0m\u001b[1;33m,\u001b[0m \u001b[0mmsg\u001b[0m\u001b[1;33m,\u001b[0m \u001b[1;33m*\u001b[0m\u001b[0margs\u001b[0m\u001b[1;33m,\u001b[0m \u001b[1;33m**\u001b[0m\u001b[0mkwargs\u001b[0m\u001b[1;33m)\u001b[0m\u001b[1;33m:\u001b[0m\u001b[1;33m\u001b[0m\u001b[1;33m\u001b[0m\u001b[0m\n",
      "\u001b[1;32m~\\miniconda3\\lib\\site-packages\\ipykernel\\iostream.py\u001b[0m in \u001b[0;36mschedule\u001b[1;34m(self, f)\u001b[0m\n\u001b[0;32m    203\u001b[0m             \u001b[0mself\u001b[0m\u001b[1;33m.\u001b[0m\u001b[0m_events\u001b[0m\u001b[1;33m.\u001b[0m\u001b[0mappend\u001b[0m\u001b[1;33m(\u001b[0m\u001b[0mf\u001b[0m\u001b[1;33m)\u001b[0m\u001b[1;33m\u001b[0m\u001b[1;33m\u001b[0m\u001b[0m\n\u001b[0;32m    204\u001b[0m             \u001b[1;31m# wake event thread (message content is ignored)\u001b[0m\u001b[1;33m\u001b[0m\u001b[1;33m\u001b[0m\u001b[1;33m\u001b[0m\u001b[0m\n\u001b[1;32m--> 205\u001b[1;33m             \u001b[0mself\u001b[0m\u001b[1;33m.\u001b[0m\u001b[0m_event_pipe\u001b[0m\u001b[1;33m.\u001b[0m\u001b[0msend\u001b[0m\u001b[1;33m(\u001b[0m\u001b[1;34mb''\u001b[0m\u001b[1;33m)\u001b[0m\u001b[1;33m\u001b[0m\u001b[1;33m\u001b[0m\u001b[0m\n\u001b[0m\u001b[0;32m    206\u001b[0m         \u001b[1;32melse\u001b[0m\u001b[1;33m:\u001b[0m\u001b[1;33m\u001b[0m\u001b[1;33m\u001b[0m\u001b[0m\n\u001b[0;32m    207\u001b[0m             \u001b[0mf\u001b[0m\u001b[1;33m(\u001b[0m\u001b[1;33m)\u001b[0m\u001b[1;33m\u001b[0m\u001b[1;33m\u001b[0m\u001b[0m\n",
      "\u001b[1;32m~\\miniconda3\\lib\\site-packages\\zmq\\sugar\\socket.py\u001b[0m in \u001b[0;36msend\u001b[1;34m(self, data, flags, copy, track, routing_id, group)\u001b[0m\n\u001b[0;32m    489\u001b[0m                                  copy_threshold=self.copy_threshold)\n\u001b[0;32m    490\u001b[0m             \u001b[0mdata\u001b[0m\u001b[1;33m.\u001b[0m\u001b[0mgroup\u001b[0m \u001b[1;33m=\u001b[0m \u001b[0mgroup\u001b[0m\u001b[1;33m\u001b[0m\u001b[1;33m\u001b[0m\u001b[0m\n\u001b[1;32m--> 491\u001b[1;33m         \u001b[1;32mreturn\u001b[0m \u001b[0msuper\u001b[0m\u001b[1;33m(\u001b[0m\u001b[0mSocket\u001b[0m\u001b[1;33m,\u001b[0m \u001b[0mself\u001b[0m\u001b[1;33m)\u001b[0m\u001b[1;33m.\u001b[0m\u001b[0msend\u001b[0m\u001b[1;33m(\u001b[0m\u001b[0mdata\u001b[0m\u001b[1;33m,\u001b[0m \u001b[0mflags\u001b[0m\u001b[1;33m=\u001b[0m\u001b[0mflags\u001b[0m\u001b[1;33m,\u001b[0m \u001b[0mcopy\u001b[0m\u001b[1;33m=\u001b[0m\u001b[0mcopy\u001b[0m\u001b[1;33m,\u001b[0m \u001b[0mtrack\u001b[0m\u001b[1;33m=\u001b[0m\u001b[0mtrack\u001b[0m\u001b[1;33m)\u001b[0m\u001b[1;33m\u001b[0m\u001b[1;33m\u001b[0m\u001b[0m\n\u001b[0m\u001b[0;32m    492\u001b[0m \u001b[1;33m\u001b[0m\u001b[0m\n\u001b[0;32m    493\u001b[0m     \u001b[1;32mdef\u001b[0m \u001b[0msend_multipart\u001b[0m\u001b[1;33m(\u001b[0m\u001b[0mself\u001b[0m\u001b[1;33m,\u001b[0m \u001b[0mmsg_parts\u001b[0m\u001b[1;33m,\u001b[0m \u001b[0mflags\u001b[0m\u001b[1;33m=\u001b[0m\u001b[1;36m0\u001b[0m\u001b[1;33m,\u001b[0m \u001b[0mcopy\u001b[0m\u001b[1;33m=\u001b[0m\u001b[1;32mTrue\u001b[0m\u001b[1;33m,\u001b[0m \u001b[0mtrack\u001b[0m\u001b[1;33m=\u001b[0m\u001b[1;32mFalse\u001b[0m\u001b[1;33m,\u001b[0m \u001b[1;33m**\u001b[0m\u001b[0mkwargs\u001b[0m\u001b[1;33m)\u001b[0m\u001b[1;33m:\u001b[0m\u001b[1;33m\u001b[0m\u001b[1;33m\u001b[0m\u001b[0m\n",
      "\u001b[1;32mzmq/backend/cython/socket.pyx\u001b[0m in \u001b[0;36mzmq.backend.cython.socket.Socket.send\u001b[1;34m()\u001b[0m\n",
      "\u001b[1;32mzmq/backend/cython/socket.pyx\u001b[0m in \u001b[0;36mzmq.backend.cython.socket.Socket.send\u001b[1;34m()\u001b[0m\n",
      "\u001b[1;32mzmq/backend/cython/socket.pyx\u001b[0m in \u001b[0;36mzmq.backend.cython.socket._send_copy\u001b[1;34m()\u001b[0m\n",
      "\u001b[1;32m~\\miniconda3\\lib\\site-packages\\zmq\\backend\\cython\\checkrc.pxd\u001b[0m in \u001b[0;36mzmq.backend.cython.checkrc._check_rc\u001b[1;34m()\u001b[0m\n",
      "\u001b[1;31mKeyboardInterrupt\u001b[0m: "
     ]
    }
   ],
   "source": [
    "#create scene\n",
    "scene = canvas()\n",
    "\n",
    "#define space size\n",
    "grid_x = 100\n",
    "grid_y = 100\n",
    "\n",
    "#define cost variables\n",
    "ob_cost = 0.5\n",
    "ped_cost = 0.05\n",
    "bx_cost = 0.5\n",
    "bx_rad = 0.5\n",
    "\n",
    "#create plane\n",
    "ground = box(pos=vector(0,0,0), size=vector(grid_x,1,grid_y))\n",
    "\n",
    "#create goal\n",
    "ep_x = -15\n",
    "ep_y = 0\n",
    "\n",
    "ep = cylinder(pos=vector(ep_x,0.5,ep_y),axis=vector(0,2,0),radius=0.05,color=vector(0,0,1))\n",
    "\n",
    "\n",
    "#create pedestrains\n",
    "peds = []\n",
    "#peds.append(sphere(pos=vector(9,1,2),size=vector(1,1,1),radius=0.5))\n",
    "#peds.append(sphere(pos=vector(9,1,-3.75),size=vector(1,1,1),radius=0.5))\n",
    "\n",
    "for _ in range(50):\n",
    "    ped_x = 9 + (r.random()) * 10\n",
    "    ped_y = (r.random() - 0.5) * 10\n",
    "\n",
    "    peds.append(sphere(pos=vector(ped_x,1,ped_y),size=vector(1,1,1),radius=0.5))\n",
    "\n",
    "#create obstacles\n",
    "obs = []\n",
    "obs.append(cylinder(pos=vector(3,0.5,0),axis=vector(0,2,0),radius=0.5,color=vector(1,0,0)))\n",
    " \n",
    "#create walls\n",
    "bxs = []\n",
    "bxs.append(box(pos=vector(-1,1.5,22.5),axis=vector(0,0,1),length=40,height=2,width=3,color=vector(1,0,0)))\n",
    "bxs.append(box(pos=vector(-1,1.5,-22.5),axis=vector(0,0,1),length=40,height=2,width=3,color=vector(1,0,0)))\n",
    "\n",
    "\n",
    "#wait for user to be ready then start\n",
    "sleep(2)\n",
    "waitforuser('i')\n",
    "print('start')\n",
    "\n",
    "#for 30 seconds at 24 fps, simulate\n",
    "for i in range(24 * 30):\n",
    "    sleep(1/24)\n",
    "    \n",
    "    #gets total changes in ped pos\n",
    "    tdx = 0\n",
    "    tdz = 0\n",
    "    \n",
    "    #for each ped get movement based on gradient\n",
    "    for ped in peds:\n",
    "        dx, dz = gradient(ped, ep.pos.x, ep.pos.z, peds, ped_cost, obs, ob_cost, bxs, bx_rad, bx_cost, 0.5, 0.5)\n",
    "       \n",
    "        tdx += dx\n",
    "        tdz += dz\n",
    "        \n",
    "        ped.pos.x += dx\n",
    "        ped.pos.z += dz\n",
    "    \n",
    "    #capture frame\n",
    "    scene.capture(f'door_frame{i}.png')\n",
    "    \n",
    "    #if no major movement is done, end sim\n",
    "    if abs(tdx) < 0.005 and abs(tdz) < 0.005:\n",
    "        break\n",
    "            \n",
    "print('done')"
   ]
  },
  {
   "cell_type": "code",
   "execution_count": 29,
   "id": "answering-walnut",
   "metadata": {},
   "outputs": [
    {
     "data": {
      "text/html": [
       "<div id=\"glowscript\" class=\"glowscript\"></div>"
      ],
      "text/plain": [
       "<IPython.core.display.HTML object>"
      ]
     },
     "metadata": {},
     "output_type": "display_data"
    },
    {
     "data": {
      "application/javascript": [
       "if (typeof Jupyter !== \"undefined\") { window.__context = { glowscript_container: $(\"#glowscript\").removeAttr(\"id\")};}else{ element.textContent = ' ';}"
      ],
      "text/plain": [
       "<IPython.core.display.Javascript object>"
      ]
     },
     "metadata": {},
     "output_type": "display_data"
    },
    {
     "name": "stdout",
     "output_type": "stream",
     "text": [
      "start\n",
      "done\n"
     ]
    }
   ],
   "source": [
    "#create scene\n",
    "scene = canvas()\n",
    "\n",
    "#define space\n",
    "grid_x = 100\n",
    "grid_y = 100\n",
    "\n",
    "#define cost variables\n",
    "ob_cost = 0.5\n",
    "ped_cost = 0.05\n",
    "bx_cost = 5\n",
    "bx_rad = 0.5\n",
    "\n",
    "#create plane\n",
    "ground = box(pos=vector(0,0,0), size=vector(grid_x,1,grid_y))\n",
    "\n",
    "#create goal\n",
    "ep_x = -20\n",
    "ep_y = 0\n",
    "\n",
    "ep = cylinder(pos=vector(ep_x,0.5,ep_y),axis=vector(0,2,0),radius=0.05,color=vector(0,0,1))\n",
    "\n",
    "\n",
    "#create pedestrians\n",
    "peds = []\n",
    "#peds.append(sphere(pos=vector(9,1,2),size=vector(1,1,1),radius=0.5))\n",
    "#peds.append(sphere(pos=vector(9,1,-3.75),size=vector(1,1,1),radius=0.5))\n",
    "\n",
    "#group a\n",
    "for _ in range(50):\n",
    "    ped_x = 12 + (r.random()) * 10\n",
    "    ped_y = (r.random() - 0.5) * 10\n",
    "\n",
    "    peds.append(sphere(pos=vector(ped_x,1,ped_y),size=vector(1,1,1),radius=0.5))\n",
    "\n",
    "#group b\n",
    "for _ in range(50):\n",
    "    ped_x = (r.random() - 0.25) * 10\n",
    "    ped_y = -12 - (r.random()) * 10\n",
    "\n",
    "    peds.append(sphere(pos=vector(ped_x,1,ped_y),size=vector(1,1,1),radius=0.5))\n",
    "\n",
    "#create obstacles\n",
    "obs = []\n",
    "\n",
    "#create walls\n",
    "bxs = []\n",
    "bxs.append(box(pos=vector(0,1.5,22.5),axis=vector(0,0,1),length=40,height=2,width=20,color=vector(1,0,0)))\n",
    "bxs.append(box(pos=vector(6.25,1.5,-5),axis=vector(0,0,1),length=5,height=2,width=7.5,color=vector(1,0,0)))\n",
    "bxs.append(box(pos=vector(-6.25,1.5,-6.25),axis=vector(0,0,1),length=7.5,height=2,width=7.5,color=vector(1,0,0)))\n",
    "bxs.append(box(pos=vector(-7.5,1.5,-25),axis=vector(0,0,1),length=30,height=2,width=5,color=vector(1,0,0)))\n",
    "bxs.append(box(pos=vector(7.5,1.5,-23.75),axis=vector(0,0,1),length=32.5,height=2,width=5,color=vector(1,0,0)))\n",
    "\n",
    "\n",
    "#wait for user to start\n",
    "sleep(2)\n",
    "waitforuser('i')\n",
    "print('start')\n",
    "\n",
    "\n",
    "#for 10 seconds at 24 fps, simulate\n",
    "for i in range(24 * 10):\n",
    "    sleep(1/24)\n",
    "    \n",
    "    #total movement of pedestrians\n",
    "    tdx = 0\n",
    "    tdz = 0\n",
    "    \n",
    "    #for each pedestrian get movement from gradient\n",
    "    for ped in peds:\n",
    "        dx, dz = gradient(ped, ep.pos.x, ep.pos.z, peds, ped_cost, obs, ob_cost, bxs, bx_rad, bx_cost, 0.5, 0.5)\n",
    "       \n",
    "        tdx += dx\n",
    "        tdz += dz\n",
    "        \n",
    "        ped.pos.x += dx\n",
    "        ped.pos.z += dz\n",
    "    \n",
    "    #capture frame\n",
    "    scene.capture(f'merge_frame{i}.png')\n",
    "    \n",
    "    #if no major movement happens, end sim\n",
    "    if abs(tdx) < 0.005 and abs(tdz) < 0.005:\n",
    "        break\n",
    "            \n",
    "print('done')\n"
   ]
  },
  {
   "cell_type": "code",
   "execution_count": null,
   "id": "natural-worry",
   "metadata": {},
   "outputs": [],
   "source": []
  }
 ],
 "metadata": {
  "kernelspec": {
   "display_name": "Python 3",
   "language": "python",
   "name": "python3"
  },
  "language_info": {
   "codemirror_mode": {
    "name": "ipython",
    "version": 3
   },
   "file_extension": ".py",
   "mimetype": "text/x-python",
   "name": "python",
   "nbconvert_exporter": "python",
   "pygments_lexer": "ipython3",
   "version": "3.8.5"
  }
 },
 "nbformat": 4,
 "nbformat_minor": 5
}
